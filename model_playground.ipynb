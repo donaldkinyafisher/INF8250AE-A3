{
 "cells": [
  {
   "cell_type": "code",
   "execution_count": 1,
   "id": "2c008692-2218-4a1a-8f65-6a9c91a8ae7f",
   "metadata": {},
   "outputs": [],
   "source": [
    "import jax \n",
    "from jax import numpy as jnp\n",
    "import chex\n",
    "import gymnax\n",
    "from gymnax.environments.environment import EnvState, Environment, EnvParams\n",
    "\n",
    "from typing import Tuple, Any, Callable\n",
    "from functools import partial\n",
    "\n",
    "import matplotlib.pyplot as plt\n",
    "import numpy as np\n",
    "\n",
    "from tqdm import tqdm"
   ]
  },
  {
   "cell_type": "code",
   "execution_count": 15,
   "id": "a5d7da67-60ff-42d2-80a9-37d6cde9ee34",
   "metadata": {},
   "outputs": [],
   "source": [
    "from model import (\n",
    "    DQNTrainingArgs, DQNTrainState,\n",
    "    DQN, DQNParameters, DQNAgent,\n",
    "    select_action, compute_loss, update_target,\n",
    "    initialize_agent_state,\n",
    "    compute_loss_double_dqn,\n",
    "    SimpleDQNAgent,\n",
    "    DoubleDQNAgent\n",
    ")\n",
    "from buffer import ReplayBuffer, ReplayBufferStorage, FIFOBuffer\n",
    "from trainer import agent_iteration"
   ]
  },
  {
   "cell_type": "code",
   "execution_count": 11,
   "id": "bdd1c0bd-f5cc-452d-8799-85453efc63ec",
   "metadata": {},
   "outputs": [],
   "source": [
    "seeds_dqn = {}"
   ]
  },
  {
   "cell_type": "code",
   "execution_count": 16,
   "id": "2724fb87-f9f9-45f7-8eae-0c97f5c6a426",
   "metadata": {},
   "outputs": [
    {
     "name": "stderr",
     "output_type": "stream",
     "text": [
      "100%|██████████| 2/2 [01:24<00:00, 42.13s/it]\n"
     ]
    }
   ],
   "source": [
    "for SEED in tqdm(range(40, 42)):\n",
    "    args = DQNTrainingArgs()\n",
    "    rng = jax.random.key(SEED)\n",
    "    rng, agent_init_rng = jax.random.split(rng, 2)\n",
    "    # create the agent and its optimization state\n",
    "    agent_state = SimpleDQNAgent.initialize_agent_state(SimpleDQNAgent.dqn, agent_init_rng, args)\n",
    "    # create the environment\n",
    "    env, env_params = gymnax.make('CartPole-v1')\n",
    "    def env_reset(rng: chex.PRNGKey) -> Tuple[chex.Array, EnvState]:\n",
    "        return env.reset(rng, env_params)\n",
    "    def env_step(rng: chex.PRNGKey, env_state: EnvState, action: chex.Array) -> Tuple[chex.Array, EnvState]:\n",
    "        return env.step(rng, env_state, action, env_params)\n",
    "    state_shape = env.observation_space(env_params).shape\n",
    "    n_actions = env.action_space().n\n",
    "    # create replay buffer storage\n",
    "    buffer_state = FIFOBuffer.init_buffer(buffer_size=args.fifo_buffer_size, state_shape=state_shape)\n",
    "    # reset the environment to start working with it\n",
    "    rng, reset_rng = jax.random.split(rng, 2)\n",
    "    obs, env_state = env_reset(reset_rng)\n",
    "    environment_step = jnp.array(0, dtype=jnp.int32)\n",
    "\n",
    "    # now we define the main function to update the agent and compile it\n",
    "    agent_iter = partial(agent_iteration, args, SimpleDQNAgent, FIFOBuffer, env_reset, env_step)\n",
    "    # donate_argnums=(2,) tells jax to optimize all operations with replay buffer\n",
    "    # and do them in-place\n",
    "    # the cost of this to that we need to recompile it every time we reinitialize the agent\n",
    "    # (because some functions get recreated). we could avoid this at the cost of much \n",
    "    # more complicated implementation.\n",
    "    agent_iter = jax.jit(agent_iter, donate_argnums=(2,)).lower(\n",
    "        # states\n",
    "        rng, agent_state, buffer_state, env_state,\n",
    "        # inputs\n",
    "        obs, environment_step\n",
    "    ).compile()\n",
    "    losses = []\n",
    "    steps = []\n",
    "    returns = []\n",
    "    while environment_step < args.sample_budget:\n",
    "        rng, agent_state, buffer_state, env_state, obs, environment_step, dqn_losses, eval_returns = agent_iter(\n",
    "            # configuration and randomness\n",
    "            # args, SimpleDQNAgent, FIFOBuffer, env_step,\n",
    "            # states\n",
    "            rng, agent_state, buffer_state, env_state,\n",
    "            # inputs\n",
    "            obs, environment_step\n",
    "        )\n",
    "        # print(environment_step)\n",
    "        steps.append(environment_step)\n",
    "        returns.append(eval_returns)\n",
    "        losses.append(dqn_losses)\n",
    "        # return returns, losses\n",
    "    seeds_dqn[SEED] = (steps, returns)"
   ]
  },
  {
   "cell_type": "code",
   "execution_count": 13,
   "id": "2afdbff8-5988-4069-8029-8c67401dbfe2",
   "metadata": {},
   "outputs": [
    {
     "data": {
      "image/png": "[encoded data removed]",
      "text/plain": [
       "<Figure size 400x300 with 1 Axes>"
      ]
     },
     "metadata": {},
     "output_type": "display_data"
    }
   ],
   "source": [
    "plt.figure(figsize=(4,3))\n",
    "plt.tight_layout()\n",
    "mean_return = np.stack([seeds_dqn[k][1] for k in seeds_dqn.keys()]).mean(0)\n",
    "std_return = np.stack([seeds_dqn[k][1] for k in seeds_dqn.keys()]).std(0)\n",
    "plt.plot(steps, mean_return, label='dqn')\n",
    "plt.fill_between(steps, mean_return - std_return, mean_return + std_return, alpha=0.3)\n",
    "plt.ylim(0, 500)\n",
    "plt.grid()\n",
    "plt.legend()\n",
    "plt.savefig('dqn.pdf')"
   ]
  },
  {
   "cell_type": "code",
   "execution_count": null,
   "id": "b38805f5",
   "metadata": {},
   "outputs": [
    {
     "name": "stdout",
     "output_type": "stream",
     "text": [
      "[Array(9.369499, dtype=float32), Array(9.3520975, dtype=float32), Array(9.329315, dtype=float32), Array(9.422403, dtype=float32), Array(9.342625, dtype=float32), Array(9.38064, dtype=float32), Array(9.333396, dtype=float32), Array(9.359817, dtype=float32), Array(9.330255, dtype=float32), Array(9.329068, dtype=float32), Array(9.395007, dtype=float32), Array(9.352443, dtype=float32), Array(9.40217, dtype=float32), Array(9.348147, dtype=float32), Array(9.369668, dtype=float32), Array(9.390947, dtype=float32), Array(9.3330145, dtype=float32), Array(9.3141165, dtype=float32), Array(9.310798, dtype=float32), Array(9.348803, dtype=float32), Array(9.352372, dtype=float32), Array(9.373377, dtype=float32), Array(9.392036, dtype=float32), Array(9.352658, dtype=float32), Array(9.331382, dtype=float32), Array(9.3617735, dtype=float32), Array(9.386927, dtype=float32), Array(9.328969, dtype=float32), Array(9.378303, dtype=float32), Array(9.346227, dtype=float32), Array(9.375265, dtype=float32), Array(9.353526, dtype=float32), Array(9.382565, dtype=float32), Array(9.3478365, dtype=float32), Array(9.362681, dtype=float32), Array(9.336513, dtype=float32), Array(9.262751, dtype=float32), Array(9.341161, dtype=float32), Array(9.378684, dtype=float32), Array(9.413027, dtype=float32), Array(9.391401, dtype=float32), Array(9.324214, dtype=float32), Array(9.361638, dtype=float32), Array(9.395139, dtype=float32), Array(9.353841, dtype=float32), Array(9.395429, dtype=float32), Array(9.396862, dtype=float32), Array(9.378825, dtype=float32), Array(9.318134, dtype=float32), Array(9.3575115, dtype=float32), Array(9.3788595, dtype=float32), Array(9.34151, dtype=float32), Array(9.336754, dtype=float32), Array(9.350593, dtype=float32), Array(9.370755, dtype=float32), Array(9.302096, dtype=float32), Array(9.3550625, dtype=float32), Array(9.382741, dtype=float32), Array(9.345174, dtype=float32), Array(9.394102, dtype=float32), Array(9.366816, dtype=float32), Array(9.322116, dtype=float32), Array(9.379916, dtype=float32), Array(9.369776, dtype=float32), Array(9.309539, dtype=float32), Array(9.329275, dtype=float32), Array(9.35349, dtype=float32), Array(9.321314, dtype=float32), Array(9.340911, dtype=float32), Array(9.33784, dtype=float32), Array(9.412932, dtype=float32), Array(9.318134, dtype=float32), Array(9.373939, dtype=float32), Array(9.3477955, dtype=float32), Array(9.321352, dtype=float32), Array(9.376143, dtype=float32), Array(9.349581, dtype=float32), Array(9.303563, dtype=float32), Array(9.338259, dtype=float32), Array(9.386374, dtype=float32), Array(9.356294, dtype=float32), Array(9.31433, dtype=float32), Array(9.342101, dtype=float32), Array(9.366665, dtype=float32), Array(9.362548, dtype=float32), Array(9.356432, dtype=float32), Array(9.416147, dtype=float32), Array(9.33491, dtype=float32), Array(9.393198, dtype=float32), Array(9.365619, dtype=float32), Array(9.312927, dtype=float32), Array(9.385985, dtype=float32), Array(9.356635, dtype=float32), Array(9.325467, dtype=float32), Array(9.383544, dtype=float32), Array(9.376592, dtype=float32), Array(9.3600645, dtype=float32), Array(9.396189, dtype=float32), Array(9.36059, dtype=float32), Array(9.29249, dtype=float32), Array(9.349238, dtype=float32), Array(9.347308, dtype=float32), Array(9.311478, dtype=float32), Array(9.377612, dtype=float32), Array(9.335503, dtype=float32), Array(9.37456, dtype=float32), Array(9.311391, dtype=float32), Array(9.317121, dtype=float32), Array(9.416908, dtype=float32), Array(9.304367, dtype=float32), Array(9.330329, dtype=float32), Array(9.319118, dtype=float32), Array(9.346438, dtype=float32), Array(9.374637, dtype=float32), Array(9.33829, dtype=float32), Array(9.299797, dtype=float32), Array(9.345345, dtype=float32), Array(9.330643, dtype=float32), Array(9.327601, dtype=float32), Array(9.274144, dtype=float32), Array(9.359606, dtype=float32), Array(9.3586035, dtype=float32), Array(9.289935, dtype=float32), Array(9.406853, dtype=float32), Array(9.376943, dtype=float32), Array(9.30063, dtype=float32), Array(9.345209, dtype=float32), Array(9.330295, dtype=float32), Array(9.3839445, dtype=float32), Array(9.392526, dtype=float32), Array(9.306254, dtype=float32), Array(9.328305, dtype=float32), Array(9.397552, dtype=float32), Array(9.332983, dtype=float32), Array(9.342, dtype=float32), Array(9.34647, dtype=float32), Array(9.292035, dtype=float32), Array(9.298393, dtype=float32), Array(9.359889, dtype=float32), Array(9.392574, dtype=float32), Array(9.34891, dtype=float32), Array(9.366068, dtype=float32), Array(9.285437, dtype=float32), Array(9.331092, dtype=float32), Array(9.411338, dtype=float32), Array(9.307689, dtype=float32), Array(9.296435, dtype=float32), Array(9.317861, dtype=float32), Array(9.349727, dtype=float32), Array(9.346151, dtype=float32), Array(9.315036, dtype=float32), Array(9.353075, dtype=float32), Array(9.343396, dtype=float32), Array(9.42055, dtype=float32), Array(9.325084, dtype=float32), Array(9.33847, dtype=float32), Array(9.359763, dtype=float32), Array(9.396444, dtype=float32), Array(9.331238, dtype=float32), Array(9.330786, dtype=float32), Array(9.392525, dtype=float32), Array(9.359469, dtype=float32), Array(9.291407, dtype=float32), Array(9.375328, dtype=float32), Array(9.347693, dtype=float32), Array(9.306254, dtype=float32), Array(9.321242, dtype=float32), Array(9.33455, dtype=float32), Array(9.318625, dtype=float32), Array(9.408164, dtype=float32), Array(9.333473, dtype=float32), Array(9.292663, dtype=float32), Array(9.378969, dtype=float32), Array(9.341405, dtype=float32), Array(9.32628, dtype=float32), Array(9.308528, dtype=float32), Array(9.357547, dtype=float32), Array(9.399783, dtype=float32), Array(9.336093, dtype=float32), Array(9.308626, dtype=float32), Array(9.359932, dtype=float32), Array(9.380673, dtype=float32), Array(9.381058, dtype=float32), Array(9.342933, dtype=float32), Array(9.37051, dtype=float32), Array(9.322852, dtype=float32), Array(9.284487, dtype=float32), Array(9.372998, dtype=float32), Array(9.350247, dtype=float32), Array(9.348114, dtype=float32), Array(9.307861, dtype=float32), Array(9.320476, dtype=float32), Array(9.395593, dtype=float32), Array(9.386413, dtype=float32), Array(9.330853, dtype=float32), Array(9.415058, dtype=float32), Array(9.309781, dtype=float32), Array(9.398325, dtype=float32), Array(9.379391, dtype=float32), Array(9.348709, dtype=float32), Array(9.367017, dtype=float32), Array(9.33232, dtype=float32), Array(9.33686, dtype=float32), Array(9.381332, dtype=float32), Array(9.35192, dtype=float32), Array(9.334935, dtype=float32), Array(9.389514, dtype=float32), Array(9.376973, dtype=float32), Array(9.363588, dtype=float32), Array(9.327293, dtype=float32), Array(9.402478, dtype=float32), Array(9.359815, dtype=float32), Array(9.361426, dtype=float32), Array(9.366463, dtype=float32), Array(9.392108, dtype=float32), Array(9.333577, dtype=float32), Array(9.307686, dtype=float32), Array(9.383964, dtype=float32), Array(9.389763, dtype=float32), Array(9.321314, dtype=float32), Array(9.401993, dtype=float32), Array(9.393741, dtype=float32), Array(9.333473, dtype=float32), Array(9.377315, dtype=float32), Array(9.388442, dtype=float32), Array(9.371941, dtype=float32), Array(9.371803, dtype=float32), Array(9.369643, dtype=float32), Array(9.333963, dtype=float32), Array(9.370406, dtype=float32), Array(9.351604, dtype=float32), Array(9.349271, dtype=float32), Array(9.390004, dtype=float32), Array(9.39022, dtype=float32), Array(9.371245, dtype=float32), Array(9.358283, dtype=float32), Array(9.348053, dtype=float32), Array(9.354228, dtype=float32), Array(9.358764, dtype=float32), Array(9.350032, dtype=float32), Array(9.3090105, dtype=float32), Array(9.309997, dtype=float32), Array(9.356673, dtype=float32), Array(9.397098, dtype=float32), Array(9.332952, dtype=float32), Array(9.402759, dtype=float32), Array(9.38826, dtype=float32), Array(9.330188, dtype=float32), Array(9.372569, dtype=float32), Array(9.371955, dtype=float32), Array(9.335849, dtype=float32), Array(9.410522, dtype=float32), Array(9.34717, dtype=float32), Array(9.318659, dtype=float32), Array(9.444068, dtype=float32), Array(9.3018875, dtype=float32), Array(9.349199, dtype=float32), Array(9.363172, dtype=float32), Array(9.296745, dtype=float32), Array(9.340141, dtype=float32), Array(9.346443, dtype=float32), Array(9.39059, dtype=float32), Array(9.377298, dtype=float32), Array(9.325404, dtype=float32), Array(9.352405, dtype=float32), Array(9.313484, dtype=float32), Array(9.329246, dtype=float32), Array(9.354192, dtype=float32), Array(9.391964, dtype=float32), Array(9.349471, dtype=float32), Array(9.365058, dtype=float32), Array(9.330291, dtype=float32), Array(9.371762, dtype=float32), Array(9.395423, dtype=float32), Array(9.389179, dtype=float32), Array(9.370821, dtype=float32), Array(9.381689, dtype=float32), Array(9.373162, dtype=float32), Array(9.328761, dtype=float32), Array(9.355242, dtype=float32), Array(9.409052, dtype=float32), Array(9.34043, dtype=float32), Array(9.398673, dtype=float32), Array(9.342418, dtype=float32), Array(9.345702, dtype=float32), Array(9.345665, dtype=float32), Array(9.341506, dtype=float32), Array(9.360136, dtype=float32), Array(9.348327, dtype=float32), Array(9.336547, dtype=float32), Array(9.346366, dtype=float32), Array(9.345283, dtype=float32), Array(9.389762, dtype=float32), Array(9.337454, dtype=float32), Array(9.363133, dtype=float32), Array(9.374809, dtype=float32), Array(9.341926, dtype=float32), Array(9.42159, dtype=float32), Array(9.411668, dtype=float32), Array(9.37312, dtype=float32), Array(9.3575115, dtype=float32), Array(9.331377, dtype=float32), Array(9.34867, dtype=float32), Array(9.342069, dtype=float32), Array(9.303108, dtype=float32), Array(9.346114, dtype=float32), Array(9.395918, dtype=float32), Array(9.39053, dtype=float32), Array(9.367969, dtype=float32), Array(9.373891, dtype=float32), Array(9.378479, dtype=float32), Array(9.371877, dtype=float32), Array(9.372785, dtype=float32), Array(9.350214, dtype=float32), Array(9.346947, dtype=float32), Array(9.335917, dtype=float32), Array(9.41212, dtype=float32), Array(9.372432, dtype=float32), Array(9.344268, dtype=float32), Array(9.3392725, dtype=float32), Array(9.294654, dtype=float32), Array(9.336374, dtype=float32), Array(9.350487, dtype=float32), Array(9.345951, dtype=float32), Array(9.380605, dtype=float32), Array(9.433234, dtype=float32), Array(9.3384695, dtype=float32), Array(9.398363, dtype=float32), Array(9.38103, dtype=float32), Array(9.323758, dtype=float32), Array(9.351504, dtype=float32), Array(9.384592, dtype=float32), Array(9.374485, dtype=float32), Array(9.381383, dtype=float32), Array(9.365686, dtype=float32), Array(9.390889, dtype=float32), Array(9.2905655, dtype=float32), Array(9.405516, dtype=float32), Array(9.364985, dtype=float32), Array(9.341228, dtype=float32), Array(9.355418, dtype=float32), Array(9.327706, dtype=float32), Array(9.347725, dtype=float32), Array(9.354891, dtype=float32), Array(9.385631, dtype=float32), Array(9.405842, dtype=float32), Array(9.367997, dtype=float32), Array(9.4443035, dtype=float32), Array(9.356003, dtype=float32), Array(9.312018, dtype=float32), Array(9.37411, dtype=float32), Array(9.324527, dtype=float32), Array(9.370934, dtype=float32), Array(9.409366, dtype=float32), Array(9.3457365, dtype=float32), Array(9.385081, dtype=float32), Array(9.336473, dtype=float32), Array(9.401108, dtype=float32), Array(9.341019, dtype=float32), Array(9.356738, dtype=float32), Array(9.339595, dtype=float32), Array(9.273897, dtype=float32), Array(9.26279, dtype=float32), Array(9.350069, dtype=float32), Array(9.346789, dtype=float32), Array(9.366945, dtype=float32), Array(9.31233, dtype=float32), Array(9.356216, dtype=float32), Array(9.393788, dtype=float32), Array(9.41056, dtype=float32), Array(9.336757, dtype=float32), Array(9.359885, dtype=float32), Array(9.347208, dtype=float32), Array(9.332771, dtype=float32), Array(9.320964, dtype=float32), Array(9.390178, dtype=float32), Array(9.350244, dtype=float32), Array(9.333472, dtype=float32), Array(9.303575, dtype=float32), Array(9.370754, dtype=float32), Array(9.309847, dtype=float32), Array(9.330817, dtype=float32), Array(9.306846, dtype=float32), Array(9.396825, dtype=float32), Array(9.341927, dtype=float32), Array(9.333674, dtype=float32), Array(9.341475, dtype=float32), Array(9.317641, dtype=float32), Array(9.3325, dtype=float32), Array(9.3416815, dtype=float32), Array(9.380043, dtype=float32), Array(9.3734865, dtype=float32), Array(9.35898, dtype=float32), Array(9.331516, dtype=float32), Array(9.393297, dtype=float32), Array(9.38438, dtype=float32), Array(9.417997, dtype=float32), Array(9.391616, dtype=float32), Array(9.372189, dtype=float32), Array(9.299406, dtype=float32), Array(9.3834, dtype=float32), Array(9.374979, dtype=float32), Array(9.294026, dtype=float32), Array(9.421638, dtype=float32), Array(9.350772, dtype=float32), Array(9.341721, dtype=float32), Array(9.35422, dtype=float32), Array(9.30629, dtype=float32), Array(9.315893, dtype=float32), Array(9.321803, dtype=float32), Array(9.35353, dtype=float32), Array(9.371978, dtype=float32), Array(9.306809, dtype=float32), Array(9.3514385, dtype=float32), Array(9.33889, dtype=float32), Array(9.319366, dtype=float32), Array(9.308561, dtype=float32), Array(9.371172, dtype=float32), Array(9.392417, dtype=float32), Array(9.371388, dtype=float32), Array(9.3269415, dtype=float32), Array(9.359817, dtype=float32), Array(9.39434, dtype=float32), Array(9.3730955, dtype=float32), Array(9.436589, dtype=float32), Array(9.332002, dtype=float32), Array(9.368307, dtype=float32), Array(9.372294, dtype=float32), Array(9.367991, dtype=float32), Array(9.319809, dtype=float32), Array(9.351297, dtype=float32), Array(9.361209, dtype=float32), Array(9.356325, dtype=float32), Array(9.343117, dtype=float32), Array(9.2965765, dtype=float32), Array(9.380712, dtype=float32), Array(9.39091, dtype=float32), Array(9.400109, dtype=float32), Array(9.30783, dtype=float32), Array(9.394099, dtype=float32), Array(9.303281, dtype=float32), Array(9.355698, dtype=float32), Array(9.363142, dtype=float32), Array(9.428484, dtype=float32), Array(9.310409, dtype=float32), Array(9.316525, dtype=float32), Array(9.338252, dtype=float32), Array(9.306359, dtype=float32), Array(9.376587, dtype=float32), Array(9.331587, dtype=float32), Array(9.350554, dtype=float32), Array(9.333544, dtype=float32), Array(9.3181, dtype=float32), Array(9.336823, dtype=float32), Array(9.308596, dtype=float32), Array(9.344512, dtype=float32), Array(9.360337, dtype=float32), Array(9.323131, dtype=float32), Array(9.329903, dtype=float32), Array(9.391197, dtype=float32), Array(9.357926, dtype=float32), Array(9.3882265, dtype=float32), Array(9.353423, dtype=float32), Array(9.29539, dtype=float32), Array(9.373723, dtype=float32), Array(9.362155, dtype=float32), Array(9.366873, dtype=float32), Array(9.388751, dtype=float32), Array(9.380915, dtype=float32), Array(9.398705, dtype=float32), Array(9.298288, dtype=float32), Array(9.401082, dtype=float32), Array(9.332492, dtype=float32), Array(9.369178, dtype=float32), Array(9.3714285, dtype=float32), Array(9.346673, dtype=float32), Array(9.409434, dtype=float32), Array(9.353328, dtype=float32), Array(9.279737, dtype=float32), Array(9.357826, dtype=float32), Array(9.384596, dtype=float32), Array(9.427498, dtype=float32), Array(9.377917, dtype=float32), Array(9.324, dtype=float32), Array(9.35633, dtype=float32), Array(9.342139, dtype=float32), Array(9.377227, dtype=float32), Array(9.301119, dtype=float32), Array(9.329875, dtype=float32)]\n"
     ]
    }
   ],
   "source": [
    "print(returns)"
   ]
  },
  {
   "cell_type": "code",
   "execution_count": null,
   "id": "3ba85436-6ce8-4510-af63-677e3159dbe4",
   "metadata": {},
   "outputs": [],
   "source": [
    "seeds_ddqn = {}"
   ]
  },
  {
   "cell_type": "code",
   "execution_count": null,
   "id": "0694ce94-c049-4888-aff4-9e2e8ad7d8b0",
   "metadata": {},
   "outputs": [
    {
     "name": "stderr",
     "output_type": "stream",
     "text": [
      "  9%|▉         | 1/11 [01:51<18:30, 111.09s/it]\n"
     ]
    },
    {
     "ename": "KeyboardInterrupt",
     "evalue": "",
     "output_type": "error",
     "traceback": [
      "\u001b[1;31m---------------------------------------------------------------------------\u001b[0m",
      "\u001b[1;31mKeyboardInterrupt\u001b[0m                         Traceback (most recent call last)",
      "Cell \u001b[1;32mIn[13], line 38\u001b[0m\n\u001b[0;32m     36\u001b[0m steps \u001b[38;5;241m=\u001b[39m []\n\u001b[0;32m     37\u001b[0m returns \u001b[38;5;241m=\u001b[39m []\n\u001b[1;32m---> 38\u001b[0m \u001b[38;5;28;01mwhile\u001b[39;00m \u001b[43menvironment_step\u001b[49m\u001b[43m \u001b[49m\u001b[38;5;241;43m<\u001b[39;49m\u001b[43m \u001b[49m\u001b[43margs\u001b[49m\u001b[38;5;241;43m.\u001b[39;49m\u001b[43msample_budget\u001b[49m:\n\u001b[0;32m     39\u001b[0m     rng, agent_state, buffer_state, env_state, obs, environment_step, dqn_losses, eval_returns \u001b[38;5;241m=\u001b[39m agent_iter(\n\u001b[0;32m     40\u001b[0m         \u001b[38;5;66;03m# states\u001b[39;00m\n\u001b[0;32m     41\u001b[0m         rng, agent_state, buffer_state, env_state,\n\u001b[0;32m     42\u001b[0m         \u001b[38;5;66;03m# inputs\u001b[39;00m\n\u001b[0;32m     43\u001b[0m         obs, environment_step\n\u001b[0;32m     44\u001b[0m     )\n\u001b[0;32m     45\u001b[0m     \u001b[38;5;66;03m# print(environment_step)\u001b[39;00m\n",
      "File \u001b[1;32mc:\\Users\\donal\\miniconda3\\envs\\ecm_env\\Lib\\site-packages\\jax\\_src\\numpy\\array_methods.py:568\u001b[0m, in \u001b[0;36m_defer_to_unrecognized_arg.<locals>.deferring_binary_op\u001b[1;34m(self, other)\u001b[0m\n\u001b[0;32m    566\u001b[0m \u001b[38;5;28;01mdef\u001b[39;00m \u001b[38;5;21m_defer_to_unrecognized_arg\u001b[39m(opchar, binary_op, swap\u001b[38;5;241m=\u001b[39m\u001b[38;5;28;01mFalse\u001b[39;00m):\n\u001b[0;32m    567\u001b[0m   \u001b[38;5;66;03m# Ensure that other array types have the chance to override arithmetic.\u001b[39;00m\n\u001b[1;32m--> 568\u001b[0m   \u001b[38;5;28;01mdef\u001b[39;00m \u001b[38;5;21mdeferring_binary_op\u001b[39m(\u001b[38;5;28mself\u001b[39m, other):\n\u001b[0;32m    569\u001b[0m     \u001b[38;5;28;01mif\u001b[39;00m \u001b[38;5;28mhasattr\u001b[39m(other, \u001b[38;5;124m'\u001b[39m\u001b[38;5;124m__jax_array__\u001b[39m\u001b[38;5;124m'\u001b[39m):\n\u001b[0;32m    570\u001b[0m       other \u001b[38;5;241m=\u001b[39m other\u001b[38;5;241m.\u001b[39m__jax_array__()\n",
      "\u001b[1;31mKeyboardInterrupt\u001b[0m: "
     ]
    }
   ],
   "source": [
    "for SEED in tqdm(range(40, 51)):\n",
    "    args = DQNTrainingArgs()\n",
    "    rng = jax.random.key(SEED)\n",
    "    rng, agent_init_rng = jax.random.split(rng, 2)\n",
    "    # create the agent and its optimization state\n",
    "    agent_state = DoubleDQNAgent.initialize_agent_state(DoubleDQNAgent.dqn, agent_init_rng, args)\n",
    "    # create the environment\n",
    "    env, env_params = gymnax.make('CartPole-v1')\n",
    "    def env_reset(rng: chex.PRNGKey) -> Tuple[chex.Array, EnvState]:\n",
    "        return env.reset(rng, env_params)\n",
    "    def env_step(rng: chex.PRNGKey, env_state: EnvState, action: chex.Array) -> Tuple[chex.Array, EnvState]:\n",
    "        return env.step(rng, env_state, action, env_params)\n",
    "    state_shape = env.observation_space(env_params).shape\n",
    "    n_actions = env.action_space().n\n",
    "    # create replay buffer storage\n",
    "    buffer_state = FIFOBuffer.init_buffer(buffer_size=args.fifo_buffer_size, state_shape=state_shape)\n",
    "    # reset the environment to start working with it\n",
    "    rng, reset_rng = jax.random.split(rng, 2)\n",
    "    obs, env_state = env_reset(reset_rng)\n",
    "    environment_step = jnp.array(0, dtype=jnp.int32)\n",
    "\n",
    "    # now we define the main function to update the agent and compile it\n",
    "    agent_iter = partial(agent_iteration, args, DoubleDQNAgent, FIFOBuffer, env_reset, env_step)\n",
    "    # donate_argnums=(2,) tells jax to optimize all operations with replay buffer\n",
    "    # and do them in-place\n",
    "    # the cost of this to that we need to recompile it every time we reinitialize the agent\n",
    "    # (because some functions get recreated). we could avoid this at the cost of a bit \n",
    "    # more complicated implementation.\n",
    "    agent_iter = jax.jit(agent_iter, donate_argnums=(2,)).lower(\n",
    "        # states\n",
    "        rng, agent_state, buffer_state, env_state,\n",
    "        # inputs\n",
    "        obs, environment_step\n",
    "    ).compile()\n",
    "    losses = []\n",
    "    steps = []\n",
    "    returns = []\n",
    "    while environment_step < args.sample_budget:\n",
    "        rng, agent_state, buffer_state, env_state, obs, environment_step, dqn_losses, eval_returns = agent_iter(\n",
    "            # states\n",
    "            rng, agent_state, buffer_state, env_state,\n",
    "            # inputs\n",
    "            obs, environment_step\n",
    "        )\n",
    "        # print(environment_step)\n",
    "        steps.append(environment_step)\n",
    "        returns.append(eval_returns)\n",
    "        losses.append(dqn_losses)\n",
    "        # return returns, losses\n",
    "    seeds_ddqn[SEED] = (steps, returns)"
   ]
  },
  {
   "cell_type": "code",
   "execution_count": null,
   "id": "23603560-5a12-40ff-8992-17f49325fcf7",
   "metadata": {},
   "outputs": [
    {
     "data": {
      "image/png": "[encoded data removed]",
      "text/plain": [
       "<Figure size 400x300 with 1 Axes>"
      ]
     },
     "metadata": {},
     "output_type": "display_data"
    }
   ],
   "source": [
    "plt.figure(figsize=(4,3))\n",
    "plt.tight_layout()\n",
    "mean_return = np.stack([seeds_dqn[k][1] for k in seeds_dqn.keys()]).mean(0)\n",
    "std_return = np.stack([seeds_dqn[k][1] for k in seeds_dqn.keys()]).std(0)\n",
    "plt.plot(steps, mean_return, label='dqn')\n",
    "plt.fill_between(steps, mean_return - std_return, mean_return + std_return, alpha=0.3)\n",
    "\n",
    "mean_return = np.stack([seeds_ddqn[k][1] for k in seeds_ddqn.keys()]).mean(0)\n",
    "std_return = np.stack([seeds_ddqn[k][1] for k in seeds_ddqn.keys()]).std(0)\n",
    "plt.plot(steps, mean_return, label='double-dqn')\n",
    "plt.fill_between(steps, mean_return - std_return, mean_return + std_return, alpha=0.3)\n",
    "\n",
    "plt.ylim(0, 500)\n",
    "plt.grid()\n",
    "plt.legend()\n",
    "plt.savefig('double-dqn.pdf')"
   ]
  },
  {
   "cell_type": "code",
   "execution_count": null,
   "id": "7287f431-b846-4b8a-b3c3-b894e9adcb88",
   "metadata": {},
   "outputs": [],
   "source": []
  }
 ],
 "metadata": {
  "kernelspec": {
   "display_name": "ecm_env",
   "language": "python",
   "name": "python3"
  },
  "language_info": {
   "codemirror_mode": {
    "name": "ipython",
    "version": 3
   },
   "file_extension": ".py",
   "mimetype": "text/x-python",
   "name": "python",
   "nbconvert_exporter": "python",
   "pygments_lexer": "ipython3",
   "version": "3.12.4"
  }
 },
 "nbformat": 4,
 "nbformat_minor": 5
}
